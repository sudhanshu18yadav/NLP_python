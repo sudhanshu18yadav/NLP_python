{
 "cells": [
  {
   "cell_type": "code",
   "execution_count": 1,
   "metadata": {},
   "outputs": [],
   "source": [
    "import sys,random,math\n",
    "from collections import Counter\n",
    "import numpy as np\n",
    "\n",
    "np.random.seed(1)\n",
    "random.seed(1)\n",
    "f = open('reviews.txt')\n",
    "raw_reviews = f.readlines()\n",
    "f.close()\n",
    "\n",
    "tokens = list(map(lambda x:(x.split(\" \")),raw_reviews))\n",
    "wordcnt = Counter()\n",
    "for sent in tokens:\n",
    "    for word in sent:\n",
    "        wordcnt[word] -= 1\n",
    "vocab = list(set(map(lambda x:x[0],wordcnt.most_common())))\n",
    "\n",
    "word2index = {}\n",
    "for i,word in enumerate(vocab):\n",
    "    word2index[word]=i\n",
    "\n",
    "concatenated = list()\n",
    "input_dataset = list()\n",
    "for sent in tokens:\n",
    "    sent_indices = list()\n",
    "    for word in sent:\n",
    "        try:\n",
    "            sent_indices.append(word2index[word])\n",
    "            concatenated.append(word2index[word])\n",
    "        except:\n",
    "            \"\"\n",
    "    input_dataset.append(sent_indices)\n",
    "concatenated = np.array(concatenated)\n",
    "random.shuffle(input_dataset)"
   ]
  },
  {
   "cell_type": "code",
   "execution_count": 2,
   "metadata": {},
   "outputs": [
    {
     "name": "stdout",
     "output_type": "stream",
     "text": [
      "Progress:0.99998 [('terrible', -0.0), ('horrible', -2.802722263619964), ('brilliant', -3.097945707650016), ('superb', -3.6827264451457014), ('phenomenal', -3.706623538152234), ('pathetic', -3.7172837123743574), ('mediocre', -3.7860535013316245), ('marvelous', -3.8628950695273767), ('masterful', -3.8884806707913624), ('terrific', -4.110073045362215)])]]])]]]][('terrible', -0.0), ('horrible', -2.787746439265329), ('brilliant', -3.34051980597866), ('pathetic', -3.6690408792709985), ('phenomenal', -3.811194547696435), ('mediocre', -3.8956882035152054), ('superb', -3.971174420579357), ('marvelous', -3.9795421352101563), ('masterful', -4.008705837987641), ('bad', -4.073897490860252)]\n"
     ]
    }
   ],
   "source": [
    "alpha, iterations = (0.05, 2)\n",
    "hidden_size,window,negative = (50,2,5)\n",
    "\n",
    "weights_0_1 = (np.random.rand(len(vocab),hidden_size) - 0.5) * 0.2\n",
    "weights_1_2 = np.random.rand(len(vocab),hidden_size)*0\n",
    "\n",
    "layer_2_target = np.zeros(negative+1)\n",
    "layer_2_target[0] = 1\n",
    "\n",
    "def similar(target='beautiful'):\n",
    "    target_index = word2index[target]\n",
    "\n",
    "    scores = Counter()\n",
    "    for word,index in word2index.items():\n",
    "        raw_difference = weights_0_1[index] - (weights_0_1[target_index])\n",
    "        squared_difference = raw_difference * raw_difference\n",
    "        scores[word] = -math.sqrt(sum(squared_difference))\n",
    "    return scores.most_common(10)\n",
    "\n",
    "def sigmoid(x):\n",
    "    return 1/(1 + np.exp(-x))\n",
    "for rev_i,review in enumerate(input_dataset * iterations):\n",
    "    for target_i in range(len(review)):\n",
    "        \n",
    "        # since it's really expensive to predict every vocabulary\n",
    "        # we're only going to predict a random subset\n",
    "        target_samples = [review[target_i]]+list(concatenated\\\n",
    "        [(np.random.rand(negative)*len(concatenated)).astype('int').tolist()])\n",
    "\n",
    "        left_context = review[max(0,target_i-window):target_i]\n",
    "        right_context = review[target_i+1:min(len(review),target_i+window)]\n",
    "\n",
    "        layer_1 = np.mean(weights_0_1[left_context+right_context],axis=0)\n",
    "        layer_2 = sigmoid(layer_1.dot(weights_1_2[target_samples].T))\n",
    "        layer_2_delta = layer_2 - layer_2_target\n",
    "        layer_1_delta = layer_2_delta.dot(weights_1_2[target_samples])\n",
    "\n",
    "        weights_0_1[left_context+right_context] -= layer_1_delta * alpha\n",
    "        weights_1_2[target_samples] -= np.outer(layer_2_delta,layer_1)*alpha\n",
    "\n",
    "    if(rev_i % 250 == 0):\n",
    "        sys.stdout.write('\\rProgress:'+str(rev_i/float(len(input_dataset)\n",
    "            *iterations)) + \"   \" + str(similar('terrible')))\n",
    "    sys.stdout.write('\\rProgress:'+str(rev_i/float(len(input_dataset)\n",
    "        *iterations)))\n",
    "print(similar('terrible'))"
   ]
  },
  {
   "cell_type": "code",
   "execution_count": null,
   "metadata": {},
   "outputs": [],
   "source": []
  }
 ],
 "metadata": {
  "kernelspec": {
   "display_name": "Python 3",
   "language": "python",
   "name": "python3"
  },
  "language_info": {
   "codemirror_mode": {
    "name": "ipython",
    "version": 3
   },
   "file_extension": ".py",
   "mimetype": "text/x-python",
   "name": "python",
   "nbconvert_exporter": "python",
   "pygments_lexer": "ipython3",
   "version": "3.8.5"
  }
 },
 "nbformat": 4,
 "nbformat_minor": 4
}
